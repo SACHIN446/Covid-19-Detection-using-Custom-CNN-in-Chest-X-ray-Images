{
 "cells": [
  {
   "cell_type": "code",
   "execution_count": 53,
   "metadata": {},
   "outputs": [
    {
     "name": "stdout",
     "output_type": "stream",
     "text": [
      "2.3.0\n"
     ]
    }
   ],
   "source": [
    "import tensorflow as tf\n",
    "from tensorflow import keras\n",
    "from tensorflow.keras import models, layers, optimizers, losses, Sequential\n",
    "print(tf.version.VERSION)"
   ]
  },
  {
   "cell_type": "code",
   "execution_count": 77,
   "metadata": {},
   "outputs": [
    {
     "name": "stdout",
     "output_type": "stream",
     "text": [
      "Found 19685 files belonging to 3 classes.\n",
      "Using 13780 files for training.\n"
     ]
    }
   ],
   "source": [
    "path = 'Datasets\\COVID-19 CT Scan Images\\Original CT Scans'\n",
    "train_ds = tf.keras.preprocessing.image_dataset_from_directory(path,\n",
    "                                                              labels='inferred',\n",
    "                                                              label_mode='int',\n",
    "                                                              color_mode='rgb',\n",
    "                                                              image_size=(300,300),\n",
    "                                                              batch_size=32,\n",
    "                                                              validation_split=0.3,\n",
    "                                                              subset='training',\n",
    "                                                              shuffle=True,\n",
    "                                                              seed=123         \n",
    "                                                           )\n"
   ]
  },
  {
   "cell_type": "code",
   "execution_count": 78,
   "metadata": {},
   "outputs": [
    {
     "name": "stdout",
     "output_type": "stream",
     "text": [
      "Found 19685 files belonging to 3 classes.\n",
      "Using 393 files for validation.\n"
     ]
    }
   ],
   "source": [
    "val_ds = tf.keras.preprocessing.image_dataset_from_directory(path,\n",
    "                                                              labels='inferred',\n",
    "                                                              label_mode='int',\n",
    "                                                              color_mode='rgb',\n",
    "                                                              image_size=(300,300),\n",
    "                                                              batch_size=32,\n",
    "                                                              validation_split=0.02,\n",
    "                                                              subset='validation',\n",
    "                                                              shuffle=True,\n",
    "                                                              seed=123         \n",
    "                                                              )"
   ]
  },
  {
   "cell_type": "code",
   "execution_count": 79,
   "metadata": {},
   "outputs": [
    {
     "name": "stdout",
     "output_type": "stream",
     "text": [
      "Found 19685 files belonging to 3 classes.\n",
      "Using 393 files for validation.\n"
     ]
    }
   ],
   "source": [
    "path = 'Datasets\\COVID-19 CT Scan Images\\Original CT Scans'\n",
    "test_ds = tf.keras.preprocessing.image_dataset_from_directory(path,\n",
    "                                                              labels='inferred',\n",
    "                                                              label_mode='int',\n",
    "                                                              color_mode='rgb',\n",
    "                                                              image_size=(300,300),\n",
    "                                                              batch_size=32,\n",
    "                                                              validation_split=0.02,\n",
    "                                                              subset='validation',\n",
    "                                                              shuffle=True,\n",
    "                                                              seed=123         \n",
    "                                                              )"
   ]
  },
  {
   "cell_type": "code",
   "execution_count": 80,
   "metadata": {},
   "outputs": [
    {
     "name": "stdout",
     "output_type": "stream",
     "text": [
      "['NiCT', 'nCT', 'pCT']\n"
     ]
    }
   ],
   "source": [
    "class_names = train_ds.class_names\n",
    "print(class_names)"
   ]
  },
  {
   "cell_type": "code",
   "execution_count": null,
   "metadata": {},
   "outputs": [],
   "source": [
    "        # Sample Images of Dataset\n",
    "images, labels = next(iter(train_ds))   \n",
    "import matplotlib.pyplot as plt\n",
    "plt.figure(figsize=(15,15))\n",
    "for i in range(4):\n",
    "    plt.subplot(4,4,i+1)\n",
    "    plt.imshow(images[i*i].numpy().astype('uint8'))\n",
    "    plt.title(class_names[labels[i]])\n",
    "    plt.axis('off')\n",
    "    \n",
    "    plt.subplot(4,4,i+1+4)\n",
    "    plt.imshow(images[i*i].numpy().astype('uint8'))\n",
    "    plt.title(class_names[labels[i]])\n",
    "    plt.axis('off')\n",
    "    \n",
    "    \n",
    "    "
   ]
  },
  {
   "cell_type": "code",
   "execution_count": null,
   "metadata": {},
   "outputs": [],
   "source": [
    "# Image Resizing plot\n",
    "path = 'Datasets\\COVID-19 CT Scan Images\\Original CT Scans'\n",
    "train_ds = tf.keras.preprocessing.image_dataset_from_directory(path,\n",
    "                                                              labels='inferred',\n",
    "                                                              label_mode='int',\n",
    "                                                              color_mode='rgb',\n",
    "                                                              image_size=(512,512),\n",
    "                                                              batch_size=32,\n",
    "                                                              validation_split=0.3,\n",
    "                                                              subset='training',\n",
    "                                                              shuffle=True,\n",
    "                                                              seed=123         \n",
    "                                                           )\n",
    "\n",
    "import numpy as np\n",
    "import matplotlib.pyplot as plt\n",
    "with tf.device('CPU'):\n",
    "    \n",
    "    images, labels = next(iter(train_ds))   \n",
    " \n",
    "    plt.figure(figsize=(10,10))\n",
    "    plt.subplot(1,3,1)\n",
    "    plt.imshow(images[1].numpy()/255.0)\n",
    "    plt.axis('on')\n",
    "          \n",
    "    new_img = tf.keras.layers.experimental.preprocessing.Resizing(300,300)(images[1])\n",
    "    plt.subplot(1,3,2)\n",
    "    plt.imshow(new_img.numpy()/255.0)\n",
    "    print(\"new shape\",new_img.shape)\n",
    "    "
   ]
  },
  {
   "cell_type": "code",
   "execution_count": null,
   "metadata": {},
   "outputs": [],
   "source": [
    "# Convolution on Single Image\n",
    "with tf.device('CPU'):\n",
    "    import numpy as np\n",
    "    import matplotlib.pyplot as plt\n",
    "    plt.figure(figsize=(10,10))\n",
    "    i,l = next(iter(train_ds))\n",
    "    img = i[1]\n",
    "    img = tf.expand_dims(img,0)\n",
    "    print(np.max(img), np.min(img))\n",
    "\n",
    "    x=tf.keras.layers.Conv2D(1,3,activation='relu',input_shape=(321,321,3))(img)\n",
    "    plt.subplot(1,2,1)\n",
    "    plt.imshow(i[1].numpy()/255.0)\n",
    "    plt.axis('off')\n",
    "    \n",
    "    plt.subplot(1,2,2)\n",
    "    plt.imshow(tf.squeeze(x))\n",
    "    plt.axis('off')\n",
    "    print(tf.squeeze(x).shape)"
   ]
  },
  {
   "cell_type": "code",
   "execution_count": 341,
   "metadata": {},
   "outputs": [
    {
     "name": "stdout",
     "output_type": "stream",
     "text": [
      "(32, 300, 300, 3)\n"
     ]
    }
   ],
   "source": [
    "print(images.shape)"
   ]
  },
  {
   "cell_type": "code",
   "execution_count": 58,
   "metadata": {},
   "outputs": [
    {
     "name": "stdout",
     "output_type": "stream",
     "text": [
      "Model: \"COVID_19_Classifier\"\n",
      "_________________________________________________________________\n",
      "Layer (type)                 Output Shape              Param #   \n",
      "=================================================================\n",
      "Input_Layer (InputLayer)     [(None, 300, 300, 3)]     0         \n",
      "_________________________________________________________________\n",
      "rescaling_1 (Rescaling)      (None, 300, 300, 3)       0         \n",
      "_________________________________________________________________\n",
      "conv2d_3 (Conv2D)            (None, 300, 300, 1)       28        \n",
      "_________________________________________________________________\n",
      "max_pooling2d_3 (MaxPooling2 (None, 150, 150, 1)       0         \n",
      "_________________________________________________________________\n",
      "conv2d_4 (Conv2D)            (None, 150, 150, 2)       20        \n",
      "_________________________________________________________________\n",
      "max_pooling2d_4 (MaxPooling2 (None, 75, 75, 2)         0         \n",
      "_________________________________________________________________\n",
      "conv2d_5 (Conv2D)            (None, 75, 75, 2)         38        \n",
      "_________________________________________________________________\n",
      "max_pooling2d_5 (MaxPooling2 (None, 37, 37, 2)         0         \n",
      "_________________________________________________________________\n",
      "flatten_1 (Flatten)          (None, 2738)              0         \n",
      "_________________________________________________________________\n",
      "dense_2 (Dense)              (None, 8)                 21912     \n",
      "_________________________________________________________________\n",
      "dense_3 (Dense)              (None, 16)                144       \n",
      "_________________________________________________________________\n",
      "Output_Layer (Dense)         (None, 3)                 51        \n",
      "=================================================================\n",
      "Total params: 22,193\n",
      "Trainable params: 22,193\n",
      "Non-trainable params: 0\n",
      "_________________________________________________________________\n",
      "None\n"
     ]
    }
   ],
   "source": [
    "INPUT_SIZE = (300,300,3)\n",
    "RESCALE_FACTOR = 1./255\n",
    "\n",
    "with tf.device('CPU'):\n",
    "    INPUT_LAYER = layers.Input(shape=INPUT_SIZE, name='Input_Layer')\n",
    "    x = tf.keras.layers.experimental.preprocessing.Rescaling(RESCALE_FACTOR)(INPUT_LAYER)\n",
    "    x = tf.keras.layers.Conv2D(1, 3, padding='same', activation='relu')(x)\n",
    "    x = tf.keras.layers.MaxPooling2D()(x)\n",
    "    x = tf.keras.layers.Conv2D(2, 3, padding='same', activation='relu')(x)\n",
    "    x = tf.keras.layers.MaxPooling2D()(x)\n",
    "    \n",
    "    x = tf.keras.layers.Conv2D(2, 3, padding='same', activation='relu')(x)\n",
    "    x = tf.keras.layers.MaxPooling2D()(x)\n",
    "    x = tf.keras.layers.Flatten()(x)\n",
    "    x = tf.keras.layers.Dense(8)(x)\n",
    "    x = tf.keras.layers.Dense(16)(x)\n",
    "    OUTPUT_LAYER = tf.keras.layers.Dense(3, activation='softmax', name='Output_Layer')(x)\n",
    "    model = tf.keras.Model(inputs=INPUT_LAYER, outputs=OUTPUT_LAYER, name='COVID_19_Classifier')\n",
    "    print(model.summary())\n",
    "    "
   ]
  },
  {
   "cell_type": "code",
   "execution_count": 351,
   "metadata": {},
   "outputs": [],
   "source": [
    "#tf.keras.utils.plot_model(model, to_file='Covid_model_plot.png', show_shapes=True, show_layer_names=True,\n",
    "#    rankdir='TB', expand_nested=False, dpi=350)"
   ]
  },
  {
   "cell_type": "code",
   "execution_count": 81,
   "metadata": {},
   "outputs": [],
   "source": [
    "with tf.device('CPU'):\n",
    "    model.compile(optimizer=tf.keras.optimizers.Adam(lr=0.001),\n",
    "                  \n",
    "                  loss=tf.keras.losses.SparseCategoricalCrossentropy(from_logits=True),\n",
    "                  \n",
    "                  metrics=['accuracy'])"
   ]
  },
  {
   "cell_type": "code",
   "execution_count": 82,
   "metadata": {},
   "outputs": [
    {
     "name": "stdout",
     "output_type": "stream",
     "text": [
      "Epoch 1/20\n",
      "30/30 [==============================] - 30s 1000ms/step - loss: 1.0138 - accuracy: 0.5250 - val_loss: 0.9636 - val_accuracy: 0.5318\n",
      "Epoch 2/20\n",
      "30/30 [==============================] - 35s 1s/step - loss: 0.8899 - accuracy: 0.6500 - val_loss: 0.8145 - val_accuracy: 0.7354\n",
      "Epoch 3/20\n",
      "30/30 [==============================] - 33s 1s/step - loss: 0.8064 - accuracy: 0.7427 - val_loss: 0.7942 - val_accuracy: 0.7557\n",
      "Epoch 4/20\n",
      "30/30 [==============================] - 35s 1s/step - loss: 0.7698 - accuracy: 0.7812 - val_loss: 0.7849 - val_accuracy: 0.7659\n",
      "Epoch 5/20\n",
      "30/30 [==============================] - 34s 1s/step - loss: 0.7824 - accuracy: 0.7667 - val_loss: 0.7825 - val_accuracy: 0.7735\n",
      "Epoch 6/20\n",
      "30/30 [==============================] - 35s 1s/step - loss: 0.7679 - accuracy: 0.7792 - val_loss: 0.7810 - val_accuracy: 0.7735\n",
      "Epoch 7/20\n",
      "30/30 [==============================] - 34s 1s/step - loss: 0.7528 - accuracy: 0.7979 - val_loss: 0.7320 - val_accuracy: 0.8422\n",
      "Epoch 8/20\n",
      "30/30 [==============================] - 37s 1s/step - loss: 0.6802 - accuracy: 0.8802 - val_loss: 0.6795 - val_accuracy: 0.8753\n",
      "Epoch 9/20\n",
      "30/30 [==============================] - 34s 1s/step - loss: 0.6724 - accuracy: 0.8854 - val_loss: 0.6648 - val_accuracy: 0.8855\n",
      "Epoch 10/20\n",
      "30/30 [==============================] - 33s 1s/step - loss: 0.6520 - accuracy: 0.9021 - val_loss: 0.6611 - val_accuracy: 0.8880\n",
      "Epoch 11/20\n",
      "30/30 [==============================] - 33s 1s/step - loss: 0.6601 - accuracy: 0.8906 - val_loss: 0.6421 - val_accuracy: 0.9135\n",
      "Epoch 12/20\n",
      "30/30 [==============================] - 32s 1s/step - loss: 0.6258 - accuracy: 0.9271 - val_loss: 0.6498 - val_accuracy: 0.9008\n",
      "Epoch 13/20\n",
      "30/30 [==============================] - 32s 1s/step - loss: 0.6376 - accuracy: 0.9156 - val_loss: 0.6311 - val_accuracy: 0.9211\n",
      "Epoch 14/20\n",
      "30/30 [==============================] - 32s 1s/step - loss: 0.6317 - accuracy: 0.9250 - val_loss: 0.6329 - val_accuracy: 0.9211\n",
      "Epoch 15/20\n",
      "30/30 [==============================] - 32s 1s/step - loss: 0.6239 - accuracy: 0.9262 - val_loss: 0.5924 - val_accuracy: 0.9593\n",
      "Epoch 16/20\n",
      "30/30 [==============================] - 32s 1s/step - loss: 0.6017 - accuracy: 0.9531 - val_loss: 0.5884 - val_accuracy: 0.9618\n",
      "Epoch 17/20\n",
      "30/30 [==============================] - 35s 1s/step - loss: 0.6071 - accuracy: 0.9510 - val_loss: 0.6021 - val_accuracy: 0.9517\n",
      "Epoch 18/20\n",
      "30/30 [==============================] - 33s 1s/step - loss: 0.5923 - accuracy: 0.9625 - val_loss: 0.5809 - val_accuracy: 0.9720\n",
      "Epoch 19/20\n",
      "30/30 [==============================] - 39s 1s/step - loss: 0.5859 - accuracy: 0.9667 - val_loss: 0.5822 - val_accuracy: 0.9720\n",
      "Epoch 20/20\n",
      "30/30 [==============================] - 37s 1s/step - loss: 0.5917 - accuracy: 0.9583 - val_loss: 0.6004 - val_accuracy: 0.9491\n"
     ]
    }
   ],
   "source": [
    "with tf.device('CPU'):\n",
    "    N_EPOCHS=20\n",
    "    train_ds=train_ds.repeat(3)\n",
    "    history = model.fit(train_ds, epochs=N_EPOCHS, validation_data=val_ds, steps_per_epoch=30, shuffle=True)\n",
    "    "
   ]
  },
  {
   "cell_type": "code",
   "execution_count": 93,
   "metadata": {},
   "outputs": [
    {
     "name": "stdout",
     "output_type": "stream",
     "text": [
      "WARNING:tensorflow:From C:\\Anaconda\\envs\\virtual_env1\\lib\\site-packages\\tensorflow\\python\\training\\tracking\\tracking.py:111: Model.state_updates (from tensorflow.python.keras.engine.training) is deprecated and will be removed in a future version.\n",
      "Instructions for updating:\n",
      "This property should not be used in TensorFlow 2.0, as updates are applied automatically.\n",
      "WARNING:tensorflow:From C:\\Anaconda\\envs\\virtual_env1\\lib\\site-packages\\tensorflow\\python\\training\\tracking\\tracking.py:111: Layer.updates (from tensorflow.python.keras.engine.base_layer) is deprecated and will be removed in a future version.\n",
      "Instructions for updating:\n",
      "This property should not be used in TensorFlow 2.0, as updates are applied automatically.\n",
      "INFO:tensorflow:Assets written to: Saved_Models/Final_Covid_Model\\assets\n"
     ]
    }
   ],
   "source": [
    "#model.save(\"Saved_Models/Final_Covid_Model\")"
   ]
  },
  {
   "cell_type": "code",
   "execution_count": 85,
   "metadata": {},
   "outputs": [
    {
     "data": {
      "image/png": "[encoded data removed]",
      "text/plain": [
       "<Figure size 432x288 with 1 Axes>"
      ]
     },
     "metadata": {
      "needs_background": "light"
     },
     "output_type": "display_data"
    }
   ],
   "source": [
    "import matplotlib.pyplot as plt\n",
    "\n",
    "#print(history.history.keys())\n",
    "#plt.figure(figsize=(8,5))\n",
    "n_epochs=range(N_EPOCHS)\n",
    "plt.plot(n_epochs, history.history['accuracy'], label='Training Accuracy')\n",
    "plt.plot(n_epochs, history.history['val_accuracy'], label='Validation Accuracy')\n",
    "\n",
    "plt.xlabel(\"Epochs\")\n",
    "plt.ylabel(\"Accuracy Value\")\n",
    "plt.ylim((0.5,1))\n",
    "plt.legend(loc='lower right')\n",
    "plt.grid(True)\n",
    "plt.show()"
   ]
  },
  {
   "cell_type": "code",
   "execution_count": 86,
   "metadata": {},
   "outputs": [
    {
     "name": "stdout",
     "output_type": "stream",
     "text": [
      "dict_keys(['loss', 'accuracy', 'val_loss', 'val_accuracy'])\n"
     ]
    },
    {
     "data": {
      "image/png": "[encoded data removed]",
      "text/plain": [
       "<Figure size 432x288 with 1 Axes>"
      ]
     },
     "metadata": {
      "needs_background": "light"
     },
     "output_type": "display_data"
    }
   ],
   "source": [
    "import matplotlib.pyplot as plt\n",
    "\n",
    "print(history.history.keys())\n",
    "#plt.figure(figsize=(20,10))\n",
    "n_epochs=range(N_EPOCHS)\n",
    "plt.plot(n_epochs, history.history['accuracy'], label='Training Accuracy')\n",
    "plt.plot(n_epochs, history.history['val_accuracy'], label='validation Accuracy')\n",
    "\n",
    "plt.plot(n_epochs, history.history['loss'], label='Training Loss')\n",
    "plt.plot(n_epochs, history.history['val_loss'], label='Validation Loss')\n",
    "\n",
    "plt.xlabel(\"Epochs\")\n",
    "plt.ylabel(\"Accuracy or Loss Value\")\n",
    "plt.ylim((0.5,1))\n",
    "plt.legend(loc='center right')\n",
    "plt.grid(True)\n",
    "plt.show()\n"
   ]
  },
  {
   "cell_type": "code",
   "execution_count": 87,
   "metadata": {},
   "outputs": [
    {
     "name": "stdout",
     "output_type": "stream",
     "text": [
      "dict_keys(['loss', 'accuracy', 'val_loss', 'val_accuracy'])\n"
     ]
    },
    {
     "data": {
      "image/png": "[encoded data removed]",
      "text/plain": [
       "<Figure size 432x288 with 1 Axes>"
      ]
     },
     "metadata": {
      "needs_background": "light"
     },
     "output_type": "display_data"
    }
   ],
   "source": [
    "import matplotlib.pyplot as plt\n",
    "\n",
    "print(history.history.keys())\n",
    "n_epochs=range(N_EPOCHS)\n",
    "plt.plot(n_epochs, history.history['loss'], label='Training Loss')\n",
    "plt.plot(n_epochs, history.history['val_loss'], label='Validation Loss')\n",
    "\n",
    "plt.xlabel(\"Epochs\")\n",
    "plt.ylabel(\"loss\")\n",
    "plt.ylim((0,1))\n",
    "plt.legend(loc='lower right')\n",
    "plt.grid(True)\n",
    "plt.show()\n"
   ]
  },
  {
   "cell_type": "code",
   "execution_count": 88,
   "metadata": {},
   "outputs": [
    {
     "name": "stdout",
     "output_type": "stream",
     "text": [
      "13/13 [==============================] - 4s 299ms/step - loss: 0.6004 - accuracy: 0.9491\n",
      "\n",
      "Testing Data Accuracy 94.91 %\n",
      "Testing Data loss 60.04 %\n"
     ]
    }
   ],
   "source": [
    "with tf.device('CPU'):\n",
    "    loss, acc = model.evaluate(test_ds)\n",
    "    print(\"\\nTesting Data Accuracy %.2f\"%(acc*100),\"%\")\n",
    "    print(\"Testing Data loss %.2f\" %(loss*100),\"%\")"
   ]
  },
  {
   "cell_type": "code",
   "execution_count": 92,
   "metadata": {},
   "outputs": [
    {
     "name": "stdout",
     "output_type": "stream",
     "text": [
      "------------Confusion Matrix--------\n",
      "\n",
      "[[ 9  0  0]\n",
      " [ 0 12  2]\n",
      " [ 0  0  9]] \n",
      "\n",
      "------------MODEL ACCURACY--------\n",
      "\n",
      "Class_Names      Precision       Recall    \n",
      "\n",
      "  NiCT            1.000000       1.000000\n",
      "  nCT             1.333333       1.333333\n",
      "  pCT             1.000000       1.000000\n"
     ]
    }
   ],
   "source": [
    "import numpy as np\n",
    "with tf.device('CPU'):\n",
    "    def model_accuracy(ds):\n",
    "        i, l = next(iter(ds))\n",
    "        pred=model.predict(i)\n",
    "        res=[np.argmax(x) for x in pred]\n",
    "        cnf=tf.math.confusion_matrix(res,l)\n",
    "        print(\"------------Confusion Matrix--------\\n\")\n",
    "        print(cnf.numpy(),\"\\n\")\n",
    "        R=[]\n",
    "        P=[]\n",
    "        row_sum=np.sum(cnf,axis=1)\n",
    "        col_sum=np.sum(cnf,axis=0)\n",
    "        class_names=['NiCT', 'nCT', 'pCT']\n",
    "        print(\"------------MODEL ACCURACY--------\\n\")\n",
    "        print(\"{0:16s} {1:15s} {2:10s}\\n\".format(\"Class_Names\",\"Precision\",\"Recall\"))\n",
    "        for k in range(3):   \n",
    "            R.append(cnf[k][k]/row_sum[0])\n",
    "            P.append(cnf[k][k]/col_sum[0])\n",
    "            print(\"  {0:15s} {1:4f} {2:14f}\".format(class_names[k],P[k],R[k]))\n",
    "\n",
    "    \n",
    "    model_accuracy(test_ds)"
   ]
  }
 ],
 "metadata": {
  "kernelspec": {
   "display_name": "Python 3",
   "language": "python",
   "name": "python3"
  },
  "language_info": {
   "codemirror_mode": {
    "name": "ipython",
    "version": 3
   },
   "file_extension": ".py",
   "mimetype": "text/x-python",
   "name": "python",
   "nbconvert_exporter": "python",
   "pygments_lexer": "ipython3",
   "version": "3.7.4"
  }
 },
 "nbformat": 4,
 "nbformat_minor": 2
}
